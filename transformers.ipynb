{
 "cells": [
  {
   "cell_type": "markdown",
   "id": "b3aefd1a-0aad-4d2b-a327-f1ee853ea087",
   "metadata": {},
   "source": [
    "then login and get a token from the huggingface user access tokens page:"
   ]
  },
  {
   "cell_type": "code",
   "execution_count": 11,
   "id": "1afef3c7-9fc1-4aa9-8cea-3533b50f21d5",
   "metadata": {},
   "outputs": [
    {
     "data": {
      "application/vnd.jupyter.widget-view+json": {
       "model_id": "963815e82773488eae3dde66ba2fa6eb",
       "version_major": 2,
       "version_minor": 0
      },
      "text/plain": [
       "VBox(children=(HTML(value='<center> <img\\nsrc=https://huggingface.co/front/assets/huggingface_logo-noborder.sv…"
      ]
     },
     "metadata": {},
     "output_type": "display_data"
    }
   ],
   "source": [
    "#uncomment if you haven't already logged in.\n",
    "#from huggingface_hub import login\n",
    "#login()\n",
    "# can also do this from login with hf auth login\n",
    "# there is also notebook login\n",
    "# from huggingface_hub import notebook_login\n",
    "# notebook_login()\n",
    "# this is for cloud notebooks. "
   ]
  },
  {
   "cell_type": "code",
   "execution_count": 1,
   "id": "69289552-db4f-4479-b20d-0623b7a299f4",
   "metadata": {},
   "outputs": [],
   "source": [
    "import transformers\n",
    "import torch\n",
    "import json, sys, os"
   ]
  },
  {
   "cell_type": "markdown",
   "id": "469653da-02a7-477c-b955-a9be6525b418",
   "metadata": {},
   "source": [
    "The most basic usecase is the pipeline:"
   ]
  },
  {
   "cell_type": "code",
   "execution_count": 2,
   "id": "b7c73b8b-9a80-4e65-96d0-48dc5a0e38a1",
   "metadata": {},
   "outputs": [
    {
     "data": {
      "application/vnd.jupyter.widget-view+json": {
       "model_id": "bae0c0b415884dfe8b3290bef11f4ab9",
       "version_major": 2,
       "version_minor": 0
      },
      "text/plain": [
       "Loading checkpoint shards:   0%|          | 0/4 [00:00<?, ?it/s]"
      ]
     },
     "metadata": {},
     "output_type": "display_data"
    },
    {
     "name": "stderr",
     "output_type": "stream",
     "text": [
      "Device set to use cuda:0\n"
     ]
    }
   ],
   "source": [
    "from transformers import pipeline\n",
    "\n",
    "pipe = pipeline(\"text-generation\", model=\"meta-llama/Llama-3.1-8B-Instruct\")"
   ]
  },
  {
   "cell_type": "code",
   "execution_count": 3,
   "id": "0c981ea7-39a2-4b02-9e63-4c625a23eb03",
   "metadata": {},
   "outputs": [],
   "source": [
    "messages = [\n",
    "    {\"role\": \"user\", \"content\": \"Who are you?\"},\n",
    "]"
   ]
  },
  {
   "cell_type": "code",
   "execution_count": 4,
   "id": "ab10758b-4034-4894-8880-0f918fc09c42",
   "metadata": {},
   "outputs": [
    {
     "name": "stderr",
     "output_type": "stream",
     "text": [
      "Setting `pad_token_id` to `eos_token_id`:128001 for open-end generation.\n"
     ]
    },
    {
     "data": {
      "text/plain": [
       "[{'role': 'user', 'content': 'Who are you?'},\n",
       " {'role': 'assistant',\n",
       "  'content': 'I\\'m an artificial intelligence model known as Llama. Llama stands for \"Large Language Model Meta AI.\"'}]"
      ]
     },
     "execution_count": 4,
     "metadata": {},
     "output_type": "execute_result"
    }
   ],
   "source": [
    "messages = pipe(messages)[0]['generated_text']\n",
    "messages"
   ]
  },
  {
   "cell_type": "code",
   "execution_count": 5,
   "id": "6d966599-5561-409a-8763-e033b259d03e",
   "metadata": {},
   "outputs": [
    {
     "name": "stderr",
     "output_type": "stream",
     "text": [
      "Setting `pad_token_id` to `eos_token_id`:128001 for open-end generation.\n"
     ]
    }
   ],
   "source": [
    "messages.append({'role': 'user', 'content': 'what is quantum mechanics?'})\n",
    "messages = pipe(messages)"
   ]
  },
  {
   "cell_type": "code",
   "execution_count": 6,
   "id": "66346ddc-b5cb-4483-88ba-727230423429",
   "metadata": {},
   "outputs": [
    {
     "data": {
      "text/plain": [
       "[{'generated_text': [{'role': 'user', 'content': 'Who are you?'},\n",
       "   {'role': 'assistant',\n",
       "    'content': 'I\\'m an artificial intelligence model known as Llama. Llama stands for \"Large Language Model Meta AI.\"'},\n",
       "   {'role': 'user', 'content': 'what is quantum mechanics?'},\n",
       "   {'role': 'assistant',\n",
       "    'content': \"Quantum mechanics is a branch of physics that studies the behavior of matter and energy at an atomic and subatomic level. At these scales, the classical laws of physics no longer apply, and strange, seemingly random phenomena govern the behavior of particles.\\n\\nSome key principles of quantum mechanics include:\\n\\n1. **Wave-particle duality**: Particles, such as electrons, can exhibit both wave-like and particle-like behavior.\\n2. **Uncertainty principle**: It's impossible to know certain properties of a particle, like its position and momentum, simultaneously with infinite precision.\\n3. **Superposition**: Particles can exist in multiple states simultaneously, like spinning both clockwise and counterclockwise at the same time.\\n4. **Entanglement**: Particles can become connected in such a way that the state of one particle is instantly affected by the state of the other, regardless of the distance between them.\\n5. **Quantization**: Energy comes in discrete packets, or quanta, rather than being continuous.\\n\\nThese principles lead to some mind-bending consequences, such as:\\n\\n* **Quantum tunneling**: Particles can pass through solid barriers, seemingly violating classical notions of space and time.\\n* **Quantum teleportation**: Information can be transmitted from one particle to another, without\"}]}]"
      ]
     },
     "execution_count": 6,
     "metadata": {},
     "output_type": "execute_result"
    }
   ],
   "source": [
    "messages"
   ]
  },
  {
   "cell_type": "markdown",
   "id": "84d224cd-c104-4809-8227-cd7e5ce0a310",
   "metadata": {},
   "source": [
    "Here is another interesting model:"
   ]
  },
  {
   "cell_type": "code",
   "execution_count": 2,
   "id": "1cbd7a04-7208-46d0-bbce-235e1d96f25a",
   "metadata": {},
   "outputs": [
    {
     "name": "stderr",
     "output_type": "stream",
     "text": [
      "`torch_dtype` is deprecated! Use `dtype` instead!\n"
     ]
    },
    {
     "data": {
      "application/vnd.jupyter.widget-view+json": {
       "model_id": "372afe10fcd74935b3d9550c47558b35",
       "version_major": 2,
       "version_minor": 0
      },
      "text/plain": [
       "Loading checkpoint shards:   0%|          | 0/2 [00:00<?, ?it/s]"
      ]
     },
     "metadata": {},
     "output_type": "display_data"
    },
    {
     "data": {
      "application/vnd.jupyter.widget-view+json": {
       "model_id": "1aa0e7dcd2374ed48bb0d5fbf46c0891",
       "version_major": 2,
       "version_minor": 0
      },
      "text/plain": [
       "Fetching 1 files:   0%|          | 0/1 [00:00<?, ?it/s]"
      ]
     },
     "metadata": {},
     "output_type": "display_data"
    },
    {
     "data": {
      "application/vnd.jupyter.widget-view+json": {
       "model_id": "84977ede911642b9872e09c92e3949be",
       "version_major": 2,
       "version_minor": 0
      },
      "text/plain": [
       "Fetching 1 files:   0%|          | 0/1 [00:00<?, ?it/s]"
      ]
     },
     "metadata": {},
     "output_type": "display_data"
    },
    {
     "data": {
      "application/vnd.jupyter.widget-view+json": {
       "model_id": "21fc910ed5da48e78d0a625dac0df410",
       "version_major": 2,
       "version_minor": 0
      },
      "text/plain": [
       "Fetching 2 files:   0%|          | 0/2 [00:00<?, ?it/s]"
      ]
     },
     "metadata": {},
     "output_type": "display_data"
    }
   ],
   "source": [
    "from PIL import Image\n",
    "from transformers import AutoTokenizer, AutoProcessor, AutoModelForImageTextToText\n",
    "\n",
    "model_path = \"nanonets/Nanonets-OCR2-3B\"\n",
    "\n",
    "model = AutoModelForImageTextToText.from_pretrained(\n",
    "    model_path, \n",
    "    torch_dtype=\"auto\", \n",
    "    device_map=\"auto\", \n",
    "    attn_implementation=\"sdpa\"\n",
    ")\n",
    "model.eval()\n",
    "\n",
    "tokenizer = AutoTokenizer.from_pretrained(model_path)\n",
    "processor = AutoProcessor.from_pretrained(model_path)"
   ]
  },
  {
   "cell_type": "code",
   "execution_count": 3,
   "id": "dffdd42b-7748-4a3a-9230-f3976ff95d1e",
   "metadata": {},
   "outputs": [],
   "source": [
    "def ocr_page_with_nanonets_s(image_path, model, processor, max_new_tokens=4096):\n",
    "    prompt = \"\"\"Extract the text from the above document as if you were reading it naturally. Return the tables in html format. Return the equations in LaTeX representation. If there is an image in the document and image caption is not present, add a small description of the image inside the <img></img> tag; otherwise, add the image caption inside <img></img>. Watermarks should be wrapped in brackets. Ex: <watermark>OFFICIAL COPY</watermark>. Page numbers should be wrapped in brackets. Ex: <page_number>14</page_number> or <page_number>9/22</page_number>. Prefer using ☐ and ☑ for check boxes.\"\"\"\n",
    "    image = Image.open(image_path)\n",
    "    messages = [\n",
    "        {\"role\": \"system\", \"content\": \"You are a helpful assistant.\"},\n",
    "        {\"role\": \"user\", \"content\": [\n",
    "            {\"type\": \"image\", \"image\": f\"file://{image_path}\"},\n",
    "            {\"type\": \"text\", \"text\": prompt},\n",
    "        ]},\n",
    "    ]\n",
    "    text = processor.apply_chat_template(messages, tokenize=False, add_generation_prompt=True)\n",
    "    inputs = processor(text=[text], images=[image], padding=True, return_tensors=\"pt\")\n",
    "    inputs = inputs.to(model.device)\n",
    "    \n",
    "    output_ids = model.generate(**inputs, max_new_tokens=max_new_tokens, do_sample=False)\n",
    "    generated_ids = [output_ids[len(input_ids):] for input_ids, output_ids in zip(inputs.input_ids, output_ids)]\n",
    "    \n",
    "    output_text = processor.batch_decode(generated_ids, skip_special_tokens=True, clean_up_tokenization_spaces=True)\n",
    "    return output_text[0]"
   ]
  },
  {
   "cell_type": "markdown",
   "id": "9f52dff7-85c9-4034-955f-9b7bd5b18e03",
   "metadata": {},
   "source": [
    "![blah](random_eq.jpeg)"
   ]
  },
  {
   "cell_type": "code",
   "execution_count": 4,
   "id": "79d072c9-723d-4c17-a4e3-29a03c80bd04",
   "metadata": {},
   "outputs": [
    {
     "name": "stderr",
     "output_type": "stream",
     "text": [
      "The following generation flags are not valid and may be ignored: ['temperature']. Set `TRANSFORMERS_VERBOSITY=info` for more details.\n"
     ]
    }
   ],
   "source": [
    "out = ocr_page_with_nanonets_s('/home/louis/research/hf_demo/random_eq.jpeg', model, processor)"
   ]
  },
  {
   "cell_type": "code",
   "execution_count": 5,
   "id": "28deb7d6-8681-4f61-9c04-83499ae97bd2",
   "metadata": {},
   "outputs": [
    {
     "data": {
      "text/plain": [
       "'<header>Scattering Region WKB</header>\\n\\nIn the scattering region we have\\n\\n$$\\\\begin{bmatrix} \\\\Delta & P(\\\\frac{\\\\partial}{\\\\partial x}, k_y) \\\\\\\\ P^*(\\\\frac{\\\\partial}{\\\\partial x}, k_y) & -\\\\Delta \\\\end{bmatrix}\\\\begin{bmatrix} u(x) \\\\\\\\ v(x) \\\\end{bmatrix} + V(x)\\\\begin{bmatrix} u(x) \\\\\\\\ v(x) \\\\end{bmatrix} = E\\\\begin{bmatrix} u(x) \\\\\\\\ v(x) \\\\end{bmatrix}$$\\n\\nwriting it out\\n\\n$$\\\\left(A_{xx}\\\\frac{\\\\partial^2}{\\\\partial x^2} + A_x\\\\frac{\\\\partial}{\\\\partial x} + A_0\\\\right)v(x) + \\\\left(\\\\Delta + V(x)\\\\right)u(x) = Eu(x)$$\\n\\n$$\\\\left(A_{xx}^*\\\\frac{\\\\partial^2}{\\\\partial x^2} + A_x^*\\\\frac{\\\\partial}{\\\\partial x} + A_0^*\\\\right)u(x) + \\\\left(-\\\\Delta + V(x)\\\\right)v(x) = Ev(x)$$\\n\\n$$\\\\frac{\\\\partial^2v}{\\\\partial x^2} = -\\\\frac{A_x}{A_{xx}}\\\\frac{\\\\partial v}{\\\\partial x} - \\\\frac{A_0}{A_{xx}}v - \\\\frac{1}{A_{xx}}(\\\\Delta + V(x) - E)u(x) = A\\\\frac{\\\\partial v}{\\\\partial x} + B(E)u + Fv$$\\n\\n$$\\\\frac{\\\\partial^2u}{\\\\partial x^2} = -\\\\frac{A_x^*}{A_{xx}^*}\\\\frac{\\\\partial u}{\\\\partial x} - \\\\frac{A_0^*}{A_{xx}^*}u - \\\\frac{1}{A_{xx}^*}(-\\\\Delta + V(x) - E)v(x) = A^*\\\\frac{\\\\partial u}{\\\\partial x} + C(E)v + F^*u$$'"
      ]
     },
     "execution_count": 5,
     "metadata": {},
     "output_type": "execute_result"
    }
   ],
   "source": [
    "out"
   ]
  },
  {
   "cell_type": "markdown",
   "id": "f47fa511-b223-4e0e-8c5b-5871f857a698",
   "metadata": {},
   "source": [
    "\\n\\nIn the scattering region we have\\n\\n$$\\begin{bmatrix} \\Delta & P(\\frac{\\partial}{\\partial x}, k_y) \\\\ P^*(\\frac{\\partial}{\\partial x}, k_y) & -\\Delta \\end{bmatrix}\\begin{bmatrix} u(x) \\\\ v(x) \\end{bmatrix} + V(x)\\begin{bmatrix} u(x) \\\\ v(x) \\end{bmatrix} = E\\begin{bmatrix} u(x) \\ v(x) \\end{bmatrix}$$\\n\\nwriting it out\\n\\n$$\\left(A_{xx}\\frac{\\partial^2}{\\partial x^2} + A_x\\frac{\\partial}{\\partial x} + A_0\\right)v(x) + \\left(\\Delta + V(x)\\right)u(x) = Eu(x)$$\\n\\n$$\\left(A_{xx}^*\\frac{\\partial^2}{\\partial x^2} + A_x^*\\frac{\\partial}{\\partial x} + A_0^*\\right)u(x) + \\left(-\\Delta + V(x)\\right)v(x) = Ev(x)$$\\n\\n$$\\frac{\\partial^2v}{\\partial x^2} = -\\frac{A_x}{A_{xx}}\\frac{\\partial v}{\\partial x} - \\frac{A_0}{A_{xx}}v - \\frac{1}{A_{xx}}(\\Delta + V(x) - E)u(x) = A\\frac{\\partial v}{\\partial x} + B(E)u + Fv$$\\n\\n$$\\frac{\\partial^2u}{\\partial x^2} = -\\frac{A_x^*}{A_{xx}^*}\\frac{\\partial u}{\\partial x} - \\frac{A_0^*}{A_{xx}^*}u - \\frac{1}{A_{xx}^*}(-\\Delta + V(x) - E)v(x) = A^*\\frac{\\partial u}{\\partial x} + C(E)v + F^*u$$"
   ]
  },
  {
   "cell_type": "code",
   "execution_count": null,
   "id": "1b82b591-e962-4b30-8adf-d03cc0ba6557",
   "metadata": {},
   "outputs": [],
   "source": []
  }
 ],
 "metadata": {
  "kernelspec": {
   "display_name": "Python 3 (ipykernel)",
   "language": "python",
   "name": "python3"
  },
  "language_info": {
   "codemirror_mode": {
    "name": "ipython",
    "version": 3
   },
   "file_extension": ".py",
   "mimetype": "text/x-python",
   "name": "python",
   "nbconvert_exporter": "python",
   "pygments_lexer": "ipython3",
   "version": "3.11.7"
  }
 },
 "nbformat": 4,
 "nbformat_minor": 5
}
